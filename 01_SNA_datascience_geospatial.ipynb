{
 "cells": [
  {
   "cell_type": "markdown",
   "id": "807087d9-9106-42e7-bc21-9d13541c9c28",
   "metadata": {},
   "source": [
    "# Introduzione ai GIS<br/><small>dati vettoriali</small>\n",
    "\n",
    "## obiettivi della lezione\n",
    "- i dati vettoriali e il formato ESRI Shapefile\n",
    "- il geodataframe in geopandas\n",
    "- le proiezioni spaziali\n",
    "\n",
    "**dati utilizzati:**\n",
    "\n",
    "- [ISTAT](https://www.istat.it/it/archivio/222527) Istituto Italiano di Statistica\n",
    "\n",
    "### requisiti\n",
    "\n",
    "- conoscenza di R\n",
    "\n",
    "\n",
    "### status\n",
    "\n",
    "_\"La terra non è piatta!!!\"_\n",
    "\n",
    "\n",
    "---"
   ]
  },
  {
   "cell_type": "markdown",
   "id": "2b16925d-d9c5-4994-b10f-1ef6e4e5e525",
   "metadata": {},
   "source": [
    "![](https://user-images.githubusercontent.com/520851/50280460-e35c1880-044c-11e9-9ed7-cc46754e49db.jpg)"
   ]
  },
  {
   "cell_type": "markdown",
   "id": "7b564671-5282-407e-86c7-41f923e99853",
   "metadata": {},
   "source": [
    "# Spatial feature\n",
    "https://r-spatial.github.io/sf/"
   ]
  },
  {
   "cell_type": "code",
   "execution_count": 1,
   "id": "0708d9b0-0955-44d3-bc4e-571ad764e3e4",
   "metadata": {},
   "outputs": [
    {
     "name": "stderr",
     "output_type": "stream",
     "text": [
      "Linking to GEOS 3.12.1, GDAL 3.9.1, PROJ 9.4.1; sf_use_s2() is TRUE\n",
      "\n"
     ]
    }
   ],
   "source": [
    "library(\"sf\")"
   ]
  },
  {
   "cell_type": "markdown",
   "id": "11dcdd5e-9ac1-43d5-837b-c8f539ec51d7",
   "metadata": {},
   "source": [
    "## Importiamo dati geospaziali\n",
    "\n",
    "Simple Features supporta tutti i formati vettoriali supportati [gdal/ogr](https://www.gdal.org/ogr_formats.html) \n",
    "\n",
    "In questo tutorial useremo i dati offerti da [ISTAT](https://istat.it)\n",
    "\n",
    "### dati delle unità amministrative\n",
    "[https://www.istat.it/it/archivio/222527](https://www.istat.it/it/archivio/222527)\n",
    "\n",
    "Il file zip con i confini amministrativi del 2024 è disponibile e questo indirizzo\n",
    "<br/>\n",
    "[https://www.istat.it/storage/cartografia/confini_amministrativi/generalizzati/2024/Limiti01012024_g.zip](https://www.istat.it/storage/cartografia/confini_amministrativi/generalizzati/2024/Limiti01012024_g.zip)"
   ]
  },
  {
   "cell_type": "markdown",
   "id": "9e9d826b-60f7-4a01-a113-8816734c4a53",
   "metadata": {},
   "source": [
    "### download dei dati"
   ]
  },
  {
   "cell_type": "code",
   "execution_count": 2,
   "id": "4e0ac1b9-65cf-421b-95af-e29f1ee5e904",
   "metadata": {},
   "outputs": [],
   "source": [
    "# Controlla se la directory esiste\n",
    "if (!dir.exists(\"Limiti01012024_g\")) {\n",
    "  # URL del file zip\n",
    "  zip_file_url <- \"https://www.istat.it/storage/cartografia/confini_amministrativi/generalizzati/2024/Limiti01012024_g.zip\"\n",
    "  zip_file_name <- \"Limiti01012024_g.zip\"\n",
    "  # Scarica il file zip\n",
    "  download.file(zip_file_url, zip_file_name, mode = \"wb\")\n",
    "\n",
    "  # Decomprime il file zip\n",
    "  unzip(zip_file_name)\n",
    "}"
   ]
  },
  {
   "cell_type": "code",
   "execution_count": 3,
   "id": "724afc0f-65ef-4c28-8da8-3804deec1f4e",
   "metadata": {},
   "outputs": [],
   "source": [
    "# Mostra tutti i file nella directory corrente e nelle sottodirectory\n",
    "list_files <- function(path = \".\") {\n",
    "  # Elenca tutti i file in modo ricorsivo\n",
    "  files <- list.files(path = path, recursive = TRUE, full.names = FALSE)\n",
    "  # Stampa ciascun file\n",
    "  for (file in files) {\n",
    "    print(file)\n",
    "  }\n",
    "}"
   ]
  },
  {
   "cell_type": "code",
   "execution_count": 4,
   "id": "5d7dc6d4-83ab-430f-907a-a709ab94efe6",
   "metadata": {},
   "outputs": [
    {
     "data": {
      "text/html": [
       "<style>\n",
       ".list-inline {list-style: none; margin:0; padding: 0}\n",
       ".list-inline>li {display: inline-block}\n",
       ".list-inline>li:not(:last-child)::after {content: \"\\00b7\"; padding: 0 .5ex}\n",
       "</style>\n",
       "<ol class=list-inline><li>'01_SNA_datascience_geospatial.ipynb'</li><li>'apt.txt'</li><li>'environment.yml'</li><li>'hello.R'</li><li>'install.R'</li><li>'Limiti01012024_g'</li><li>'Limiti01012024_g.zip'</li><li>'postBuild'</li><li>'README'</li><li>'README.md'</li><li>'requirements.txt'</li><li>'runtime.txt'</li></ol>\n"
      ],
      "text/latex": [
       "\\begin{enumerate*}\n",
       "\\item '01\\_SNA\\_datascience\\_geospatial.ipynb'\n",
       "\\item 'apt.txt'\n",
       "\\item 'environment.yml'\n",
       "\\item 'hello.R'\n",
       "\\item 'install.R'\n",
       "\\item 'Limiti01012024\\_g'\n",
       "\\item 'Limiti01012024\\_g.zip'\n",
       "\\item 'postBuild'\n",
       "\\item 'README'\n",
       "\\item 'README.md'\n",
       "\\item 'requirements.txt'\n",
       "\\item 'runtime.txt'\n",
       "\\end{enumerate*}\n"
      ],
      "text/markdown": [
       "1. '01_SNA_datascience_geospatial.ipynb'\n",
       "2. 'apt.txt'\n",
       "3. 'environment.yml'\n",
       "4. 'hello.R'\n",
       "5. 'install.R'\n",
       "6. 'Limiti01012024_g'\n",
       "7. 'Limiti01012024_g.zip'\n",
       "8. 'postBuild'\n",
       "9. 'README'\n",
       "10. 'README.md'\n",
       "11. 'requirements.txt'\n",
       "12. 'runtime.txt'\n",
       "\n",
       "\n"
      ],
      "text/plain": [
       " [1] \"01_SNA_datascience_geospatial.ipynb\" \"apt.txt\"                            \n",
       " [3] \"environment.yml\"                     \"hello.R\"                            \n",
       " [5] \"install.R\"                           \"Limiti01012024_g\"                   \n",
       " [7] \"Limiti01012024_g.zip\"                \"postBuild\"                          \n",
       " [9] \"README\"                              \"README.md\"                          \n",
       "[11] \"requirements.txt\"                    \"runtime.txt\"                        "
      ]
     },
     "metadata": {},
     "output_type": "display_data"
    }
   ],
   "source": [
    "# Elencare i file nella directory corrente\n",
    "list.files()"
   ]
  },
  {
   "cell_type": "code",
   "execution_count": 5,
   "id": "81bd7991-facf-4343-995b-5547cfea30c4",
   "metadata": {},
   "outputs": [
    {
     "data": {
      "text/html": [
       "<style>\n",
       ".list-inline {list-style: none; margin:0; padding: 0}\n",
       ".list-inline>li {display: inline-block}\n",
       ".list-inline>li:not(:last-child)::after {content: \"\\00b7\"; padding: 0 .5ex}\n",
       "</style>\n",
       "<ol class=list-inline><li>'Com01012024_g'</li><li>'ProvCM01012024_g'</li><li>'Reg01012024_g'</li><li>'RipGeo01012024_g'</li></ol>\n"
      ],
      "text/latex": [
       "\\begin{enumerate*}\n",
       "\\item 'Com01012024\\_g'\n",
       "\\item 'ProvCM01012024\\_g'\n",
       "\\item 'Reg01012024\\_g'\n",
       "\\item 'RipGeo01012024\\_g'\n",
       "\\end{enumerate*}\n"
      ],
      "text/markdown": [
       "1. 'Com01012024_g'\n",
       "2. 'ProvCM01012024_g'\n",
       "3. 'Reg01012024_g'\n",
       "4. 'RipGeo01012024_g'\n",
       "\n",
       "\n"
      ],
      "text/plain": [
       "[1] \"Com01012024_g\"    \"ProvCM01012024_g\" \"Reg01012024_g\"    \"RipGeo01012024_g\""
      ]
     },
     "metadata": {},
     "output_type": "display_data"
    }
   ],
   "source": [
    "list.files(path = \"Limiti01012024_g\")"
   ]
  },
  {
   "cell_type": "code",
   "execution_count": 6,
   "id": "9c2e144e-adbf-4ab2-8b4b-43191a547f81",
   "metadata": {},
   "outputs": [
    {
     "data": {
      "text/html": [
       "'/home/jovyan/Limiti01012024_g'"
      ],
      "text/latex": [
       "'/home/jovyan/Limiti01012024\\_g'"
      ],
      "text/markdown": [
       "'/home/jovyan/Limiti01012024_g'"
      ],
      "text/plain": [
       "[1] \"/home/jovyan/Limiti01012024_g\""
      ]
     },
     "metadata": {},
     "output_type": "display_data"
    }
   ],
   "source": [
    "# Cambia la directory di lavoro a 'Limiti01012024_g'\n",
    "setwd(\"Limiti01012024_g\")\n",
    "\n",
    "# Verifica la directory corrente\n",
    "getwd()"
   ]
  },
  {
   "cell_type": "code",
   "execution_count": 7,
   "id": "edb36b3d-d6d5-45e5-ba71-c1a7493232c5",
   "metadata": {},
   "outputs": [
    {
     "data": {
      "text/html": [
       "<style>\n",
       ".list-inline {list-style: none; margin:0; padding: 0}\n",
       ".list-inline>li {display: inline-block}\n",
       ".list-inline>li:not(:last-child)::after {content: \"\\00b7\"; padding: 0 .5ex}\n",
       "</style>\n",
       "<ol class=list-inline><li>'Com01012024_g'</li><li>'ProvCM01012024_g'</li><li>'Reg01012024_g'</li><li>'RipGeo01012024_g'</li></ol>\n"
      ],
      "text/latex": [
       "\\begin{enumerate*}\n",
       "\\item 'Com01012024\\_g'\n",
       "\\item 'ProvCM01012024\\_g'\n",
       "\\item 'Reg01012024\\_g'\n",
       "\\item 'RipGeo01012024\\_g'\n",
       "\\end{enumerate*}\n"
      ],
      "text/markdown": [
       "1. 'Com01012024_g'\n",
       "2. 'ProvCM01012024_g'\n",
       "3. 'Reg01012024_g'\n",
       "4. 'RipGeo01012024_g'\n",
       "\n",
       "\n"
      ],
      "text/plain": [
       "[1] \"Com01012024_g\"    \"ProvCM01012024_g\" \"Reg01012024_g\"    \"RipGeo01012024_g\""
      ]
     },
     "metadata": {},
     "output_type": "display_data"
    }
   ],
   "source": [
    "list.files()"
   ]
  },
  {
   "cell_type": "markdown",
   "id": "0d06e8bf-ac10-4470-a982-5de9fd7706c3",
   "metadata": {},
   "source": [
    "Limiti01012023_g => la cartella con i confini generalizzati delle varie unità amministrative italiane a 2023\n",
    "- RipGeo01012024_g<br/>&nbsp;cartella con i confini delle macroregioni d'Italia\n",
    "- Reg01012024_g<br/>&nbsp;cartella con i confini regionali\n",
    "- ProvCM01012024_g<br/>&nbsp;confini provinciali\n",
    "- Com01012024_g<br/>&nbsp;confini comunali"
   ]
  },
  {
   "cell_type": "markdown",
   "id": "347c78ad-b8c9-4c80-8215-8d8055f78c23",
   "metadata": {},
   "source": [
    "#### Esploriamo le macroregioni"
   ]
  },
  {
   "cell_type": "code",
   "execution_count": 8,
   "id": "e13c434f-fdac-4ec5-b17b-6f5634f43843",
   "metadata": {},
   "outputs": [],
   "source": [
    "# Cambia la directory di lavoro a 'Limiti01012024_g'\n",
    "setwd(\"RipGeo01012024_g\")"
   ]
  },
  {
   "cell_type": "code",
   "execution_count": 9,
   "id": "d70730ee-ef23-476b-b13b-a84f7b0b2af8",
   "metadata": {},
   "outputs": [
    {
     "data": {
      "text/html": [
       "'/home/jovyan/Limiti01012024_g/RipGeo01012024_g'"
      ],
      "text/latex": [
       "'/home/jovyan/Limiti01012024\\_g/RipGeo01012024\\_g'"
      ],
      "text/markdown": [
       "'/home/jovyan/Limiti01012024_g/RipGeo01012024_g'"
      ],
      "text/plain": [
       "[1] \"/home/jovyan/Limiti01012024_g/RipGeo01012024_g\""
      ]
     },
     "metadata": {},
     "output_type": "display_data"
    }
   ],
   "source": [
    "getwd()"
   ]
  },
  {
   "cell_type": "code",
   "execution_count": 10,
   "id": "1e99b61b-73aa-477e-aec7-74bd202bb3af",
   "metadata": {},
   "outputs": [
    {
     "name": "stdout",
     "output_type": "stream",
     "text": [
      "[1] \"RipGeo01012024_g_WGS84.cpg\"\n",
      "[1] \"RipGeo01012024_g_WGS84.dbf\"\n",
      "[1] \"RipGeo01012024_g_WGS84.prj\"\n",
      "[1] \"RipGeo01012024_g_WGS84.shp\"\n",
      "[1] \"RipGeo01012024_g_WGS84.shx\"\n"
     ]
    }
   ],
   "source": [
    "\n",
    "\n",
    "# Esegui la funzione per la directory corrente\n",
    "list_files(\".\")\n"
   ]
  },
  {
   "cell_type": "markdown",
   "id": "54c81295-7e38-4aa5-87c8-8d093c8fc2e6",
   "metadata": {},
   "source": [
    "### ESRI Shapefile\n",
    "\n",
    "questo è uno *ESRI Shapefile* (un formato vecchio ma molto diffuso per distribuire dati geospaziali vettoriali)\n",
    "\n",
    "Il formato è proprietario ed alcune specifiche di base sono state rese pubbliche.\n",
    "Un \"ESRI Shapefile\" è una collezione di diversi file con lo stesso nome ed estensione diversa.\n",
    "\n",
    "Le specifiche pubbliche sono per queste estensioni\n",
    "\n",
    "| estensione | significato       | contenuto del file                                                  |\n",
    "| --------- | ------------- | -------------------------------------------------------------------- |\n",
    "| .shp      | shape (forma)         | le geometrie (punti, linee, poligoni)                                |\n",
    "| .dbf      | file database | gli attributi da assocciati alle geometrie                     |\n",
    "| .shx      | indici degli shape | gli indici per associare le geometrie agli attributi               |\n",
    "| .prj      | proiezione    | una stringa di testo strutturata che contiene le regole della proiezione usata |\n",
    "\n",
    "Pe gestire i dati sono _necessai_ almeno 3 file (*.shp, .shx, and .dbf*), ma il file *.prj* è fondamentale per analizzare le informazioni in particolare quando lo si incrocia con altri.\n",
    "\n",
    "Oltre ai 4 citati è possibile che un ESRI Shapefile abbia ulteriori file.\n",
    "\n",
    "Maggiori informazioni [qui](https://www.esri.com/library/whitepapers/pdfs/shapefile.pdf"
   ]
  },
  {
   "cell_type": "code",
   "execution_count": 11,
   "id": "26756bc6-a3cf-4cdb-ad0d-1fa49daf8fd0",
   "metadata": {},
   "outputs": [
    {
     "name": "stdout",
     "output_type": "stream",
     "text": [
      "Reading layer `RipGeo01012024_g_WGS84' from data source \n",
      "  `/home/jovyan/Limiti01012024_g/RipGeo01012024_g/RipGeo01012024_g_WGS84.shp' \n",
      "  using driver `ESRI Shapefile'\n",
      "Simple feature collection with 5 features and 4 fields\n",
      "Geometry type: MULTIPOLYGON\n",
      "Dimension:     XY\n",
      "Bounding box:  xmin: 313279.3 ymin: 3933826 xmax: 1312016 ymax: 5220292\n",
      "Projected CRS: WGS 84 / UTM zone 32N\n"
     ]
    }
   ],
   "source": [
    "# Leggere il file shapefile\n",
    "macroregions <- st_read(\"RipGeo01012024_g_WGS84.shp\")"
   ]
  },
  {
   "cell_type": "code",
   "execution_count": 12,
   "id": "f99ba52d-cc58-48b7-8c4e-623492538c83",
   "metadata": {},
   "outputs": [
    {
     "data": {
      "text/html": [
       "<style>\n",
       ".list-inline {list-style: none; margin:0; padding: 0}\n",
       ".list-inline>li {display: inline-block}\n",
       ".list-inline>li:not(:last-child)::after {content: \"\\00b7\"; padding: 0 .5ex}\n",
       "</style>\n",
       "<ol class=list-inline><li>'sf'</li><li>'data.frame'</li></ol>\n"
      ],
      "text/latex": [
       "\\begin{enumerate*}\n",
       "\\item 'sf'\n",
       "\\item 'data.frame'\n",
       "\\end{enumerate*}\n"
      ],
      "text/markdown": [
       "1. 'sf'\n",
       "2. 'data.frame'\n",
       "\n",
       "\n"
      ],
      "text/plain": [
       "[1] \"sf\"         \"data.frame\""
      ]
     },
     "metadata": {},
     "output_type": "display_data"
    }
   ],
   "source": [
    "# Verifica il tipo di oggetto\n",
    "class(macroregions)"
   ]
  },
  {
   "cell_type": "markdown",
   "id": "bab2689a-b4cf-4d87-ab39-d08102767316",
   "metadata": {},
   "source": [
    "Si tratta di un data.frame R con la colonna \"geometry\" su cui applicare funzioni geospaziali"
   ]
  },
  {
   "cell_type": "code",
   "execution_count": 15,
   "id": "cc04eb8e-7554-470d-831f-84b0b93e35d3",
   "metadata": {},
   "outputs": [
    {
     "data": {
      "text/html": [
       "<style>\n",
       ".list-inline {list-style: none; margin:0; padding: 0}\n",
       ".list-inline>li {display: inline-block}\n",
       ".list-inline>li:not(:last-child)::after {content: \"\\00b7\"; padding: 0 .5ex}\n",
       "</style>\n",
       "<ol class=list-inline><li>'COD_RIP'</li><li>'DEN_RIP'</li><li>'Shape_Leng'</li><li>'Shape_Area'</li><li>'geometry'</li></ol>\n"
      ],
      "text/latex": [
       "\\begin{enumerate*}\n",
       "\\item 'COD\\_RIP'\n",
       "\\item 'DEN\\_RIP'\n",
       "\\item 'Shape\\_Leng'\n",
       "\\item 'Shape\\_Area'\n",
       "\\item 'geometry'\n",
       "\\end{enumerate*}\n"
      ],
      "text/markdown": [
       "1. 'COD_RIP'\n",
       "2. 'DEN_RIP'\n",
       "3. 'Shape_Leng'\n",
       "4. 'Shape_Area'\n",
       "5. 'geometry'\n",
       "\n",
       "\n"
      ],
      "text/plain": [
       "[1] \"COD_RIP\"    \"DEN_RIP\"    \"Shape_Leng\" \"Shape_Area\" \"geometry\"  "
      ]
     },
     "metadata": {},
     "output_type": "display_data"
    }
   ],
   "source": [
    "colnames(macroregions)"
   ]
  },
  {
   "cell_type": "code",
   "execution_count": 17,
   "id": "2d0cadb4-0f26-4246-acc3-a70877038e87",
   "metadata": {},
   "outputs": [
    {
     "name": "stdout",
     "output_type": "stream",
     "text": [
      "Simple feature collection with 5 features and 4 fields\n",
      "Geometry type: MULTIPOLYGON\n",
      "Dimension:     XY\n",
      "Bounding box:  xmin: 313279.3 ymin: 3933826 xmax: 1312016 ymax: 5220292\n",
      "Projected CRS: WGS 84 / UTM zone 32N\n",
      "  COD_RIP    DEN_RIP Shape_Leng  Shape_Area                       geometry\n",
      "1       1 Nord-ovest    2330675 57930826800 MULTIPOLYGON (((568227.8 48...\n",
      "2       2   Nord-est    2313109 62396110675 MULTIPOLYGON (((618343.9 48...\n",
      "3       3     Centro    2013166 58030006351 MULTIPOLYGON (((876021.9 45...\n",
      "4       4        Sud    2535023 73781812999 MULTIPOLYGON (((1083359 441...\n",
      "5       5      Isole    2793918 49930616360 MULTIPOLYGON (((822901.4 39...\n"
     ]
    }
   ],
   "source": [
    "print(macroregions)"
   ]
  },
  {
   "cell_type": "code",
   "execution_count": 24,
   "id": "5493226c-fc12-438d-ac1e-94603b6edefc",
   "metadata": {},
   "outputs": [
    {
     "data": {
      "text/html": [
       "<style>\n",
       ".list-inline {list-style: none; margin:0; padding: 0}\n",
       ".list-inline>li {display: inline-block}\n",
       ".list-inline>li:not(:last-child)::after {content: \"\\00b7\"; padding: 0 .5ex}\n",
       "</style>\n",
       "<ol class=list-inline><li>TRUE</li><li>FALSE</li><li>TRUE</li><li>FALSE</li><li>FALSE</li></ol>\n"
      ],
      "text/latex": [
       "\\begin{enumerate*}\n",
       "\\item TRUE\n",
       "\\item FALSE\n",
       "\\item TRUE\n",
       "\\item FALSE\n",
       "\\item FALSE\n",
       "\\end{enumerate*}\n"
      ],
      "text/markdown": [
       "1. TRUE\n",
       "2. FALSE\n",
       "3. TRUE\n",
       "4. FALSE\n",
       "5. FALSE\n",
       "\n",
       "\n"
      ],
      "text/plain": [
       "[1]  TRUE FALSE  TRUE FALSE FALSE"
      ]
     },
     "metadata": {},
     "output_type": "display_data"
    },
    {
     "name": "stdout",
     "output_type": "stream",
     "text": [
      "Simple feature collection with 3 features and 4 fields\n",
      "Geometry type: MULTIPOLYGON\n",
      "Dimension:     XY\n",
      "Bounding box:  xmin: 426598 ymin: 3933826 xmax: 1312016 ymax: 5220292\n",
      "Projected CRS: WGS 84 / UTM zone 32N\n",
      "  COD_RIP  DEN_RIP Shape_Leng  Shape_Area                       geometry\n",
      "2       2 Nord-est    2313109 62396110675 MULTIPOLYGON (((618343.9 48...\n",
      "4       4      Sud    2535023 73781812999 MULTIPOLYGON (((1083359 441...\n",
      "5       5    Isole    2793918 49930616360 MULTIPOLYGON (((822901.4 39...\n"
     ]
    }
   ],
   "source": [
    "# Verifica se ci sono geometrie non valide\n",
    "st_is_valid(macroregions)\n",
    "\n",
    "# Identifica geometrie non valide\n",
    "invalid_geometries <- macroregions[!st_is_valid(macroregions), ]\n",
    "print(invalid_geometries)"
   ]
  },
  {
   "cell_type": "code",
   "execution_count": 35,
   "id": "5b2a1717-854a-42df-8d4c-e06f72a81929",
   "metadata": {},
   "outputs": [
    {
     "ename": "ERROR",
     "evalue": "Error in parse(text = x, srcfile = src): <text>:1:34: unexpected ')'\n1: st_length(macroregions$geometry[4)\n                                     ^\n",
     "output_type": "error",
     "traceback": [
      "Error in parse(text = x, srcfile = src): <text>:1:34: unexpected ')'\n1: st_length(macroregions$geometry[4)\n                                     ^\nTraceback:\n"
     ]
    }
   ],
   "source": []
  },
  {
   "cell_type": "code",
   "execution_count": 27,
   "id": "99b61dcf-71fd-4234-bb33-99b67dbcec00",
   "metadata": {},
   "outputs": [
    {
     "name": "stdout",
     "output_type": "stream",
     "text": [
      "Units: [m]\n",
      "[1] 0 0 0 0 0\n"
     ]
    }
   ],
   "source": [
    "# Calcola la lunghezza delle geometrie valide\n",
    "geometry_lengths <- st_length(macroregions)\n",
    "print(geometry_lengths)"
   ]
  },
  {
   "cell_type": "code",
   "execution_count": null,
   "id": "25149ba9-4136-4e31-a713-b369188ecf45",
   "metadata": {},
   "outputs": [],
   "source": []
  }
 ],
 "metadata": {
  "kernelspec": {
   "display_name": "R",
   "language": "R",
   "name": "ir"
  },
  "language_info": {
   "codemirror_mode": "r",
   "file_extension": ".r",
   "mimetype": "text/x-r-source",
   "name": "R",
   "pygments_lexer": "r",
   "version": "4.2.3"
  }
 },
 "nbformat": 4,
 "nbformat_minor": 5
}
